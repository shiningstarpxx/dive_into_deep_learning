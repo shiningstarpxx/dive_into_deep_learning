{
 "cells": [
  {
   "cell_type": "markdown",
   "metadata": {},
   "source": [
    "that a single neuron \n",
    "\n",
    "(i) takes some set of inputs;  \n",
    "\n",
    "(ii) generates a corresponding scalar output; and  \n",
    "\n",
    "(iii) has a set of associated parameters that can be updated to optimize some objective function of interest."
   ]
  },
  {
   "cell_type": "markdown",
   "metadata": {},
   "source": [
    "Just like individual neurons, layers \n",
    "\n",
    "(i) take a set of inputs, \n",
    "\n",
    "(ii) generate corresponding outputs, and \n",
    "\n",
    "(iii) are described by a set of tunable parameters. "
   ]
  },
  {
   "cell_type": "code",
   "execution_count": null,
   "metadata": {},
   "outputs": [],
   "source": []
  }
 ],
 "metadata": {
  "language_info": {
   "name": "python"
  }
 },
 "nbformat": 4,
 "nbformat_minor": 2
}
